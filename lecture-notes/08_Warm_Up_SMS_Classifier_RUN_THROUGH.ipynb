{
  "nbformat": 4,
  "nbformat_minor": 0,
  "metadata": {
    "colab": {
      "name": "08 - Warm Up - SMS Classifier - RUN THROUGH",
      "provenance": [],
      "collapsed_sections": []
    },
    "kernelspec": {
      "name": "python3",
      "display_name": "Python 3"
    },
    "language_info": {
      "name": "python"
    }
  },
  "cells": [
    {
      "cell_type": "code",
      "metadata": {
        "id": "u9aezQCJzGUF"
      },
      "source": [
        "\n",
        "\n",
        "############################################################\n",
        "########################################### Team Challenge\n",
        "############################################################\n",
        "# \n",
        "## Work in Project Groups\n",
        "# \n",
        "# - tokenize the dataset on Big Query from \n",
        "# URL link: https://console.cloud.google.com/bigquery?project=questrom&d=SMSspam&\n",
        "\n",
        "## review the slides at the end of this module\n",
        "## predict spam\n",
        "## objective =  based on accuracy\n",
        "## only input is text, but you can derive features\n",
        "## limited time, but how do you maximize your time (and the model?)\n",
        "## HINTS:\n",
        "##        start small, simple models\n",
        "##        iterate and see how you do against the leaderboard\n",
        "##        code above helps you with the core mechanics\n"
      ],
      "execution_count": null,
      "outputs": []
    },
    {
      "cell_type": "code",
      "metadata": {
        "id": "wiJRy9lNb1Xb",
        "colab": {
          "base_uri": "https://localhost:8080/"
        },
        "outputId": "cff5e014-189b-49e0-db6c-7d06c302f20a"
      },
      "source": [
        "# installs/updates\n",
        "! pip install -U scikit-learn"
      ],
      "execution_count": null,
      "outputs": [
        {
          "output_type": "stream",
          "name": "stdout",
          "text": [
            "Requirement already satisfied: scikit-learn in /usr/local/lib/python3.7/dist-packages (0.22.2.post1)\n",
            "Collecting scikit-learn\n",
            "  Downloading scikit_learn-1.0.1-cp37-cp37m-manylinux_2_12_x86_64.manylinux2010_x86_64.whl (23.2 MB)\n",
            "\u001b[K     |████████████████████████████████| 23.2 MB 1.8 MB/s \n",
            "\u001b[?25hRequirement already satisfied: scipy>=1.1.0 in /usr/local/lib/python3.7/dist-packages (from scikit-learn) (1.4.1)\n",
            "Requirement already satisfied: joblib>=0.11 in /usr/local/lib/python3.7/dist-packages (from scikit-learn) (1.1.0)\n",
            "Collecting threadpoolctl>=2.0.0\n",
            "  Downloading threadpoolctl-3.0.0-py3-none-any.whl (14 kB)\n",
            "Requirement already satisfied: numpy>=1.14.6 in /usr/local/lib/python3.7/dist-packages (from scikit-learn) (1.19.5)\n",
            "Installing collected packages: threadpoolctl, scikit-learn\n",
            "  Attempting uninstall: scikit-learn\n",
            "    Found existing installation: scikit-learn 0.22.2.post1\n",
            "    Uninstalling scikit-learn-0.22.2.post1:\n",
            "      Successfully uninstalled scikit-learn-0.22.2.post1\n",
            "Successfully installed scikit-learn-1.0.1 threadpoolctl-3.0.0\n"
          ]
        }
      ]
    },
    {
      "cell_type": "code",
      "metadata": {
        "id": "QPwL-WqFpQa5"
      },
      "source": [
        "# imports\n",
        "import pandas as pd\n",
        "import seaborn as sns\n",
        "import matplotlib.pyplot as plt\n",
        "\n",
        "# models\n",
        "from sklearn.tree import DecisionTreeClassifier\n",
        "from sklearn.ensemble import RandomForestClassifier\n",
        "from sklearn.neighbors import KNeighborsClassifier\n",
        "from sklearn.linear_model import LogisticRegression\n",
        "\n",
        "# text\n",
        "from sklearn.feature_extraction.text import CountVectorizer\n",
        "\n",
        "# compression\n",
        "from sklearn.decomposition import PCA\n",
        "\n",
        "\n"
      ],
      "execution_count": null,
      "outputs": []
    },
    {
      "cell_type": "code",
      "metadata": {
        "id": "-S5I5U88mI8g",
        "colab": {
          "base_uri": "https://localhost:8080/"
        },
        "outputId": "6ee8c8f8-0250-45ad-b54f-3c7aa79a1542"
      },
      "source": [
        "# get the datasets\n",
        "ds_train = pd.read_gbq(\"SELECT * FROM `questrom.SMSspam.train`\", \"questrom\")\n",
        "ds_test = pd.read_gbq(\"SELECT * FROM `questrom.SMSspam.test`\", \"questrom\")\n",
        "ds_sample = pd.read_gbq(\"SELECT * FROM `questrom.SMSspam.sample-submission`\", \"questrom\")"
      ],
      "execution_count": null,
      "outputs": [
        {
          "name": "stdout",
          "output_type": "stream",
          "text": [
            "Please visit this URL to authorize this application: https://accounts.google.com/o/oauth2/auth?response_type=code&client_id=725825577420-unm2gnkiprugilg743tkbig250f4sfsj.apps.googleusercontent.com&redirect_uri=urn%3Aietf%3Awg%3Aoauth%3A2.0%3Aoob&scope=https%3A%2F%2Fwww.googleapis.com%2Fauth%2Fbigquery&state=W1L6ya7f2RUuWwwNizJyGpLWdBFS6f&prompt=consent&access_type=offline\n",
            "Enter the authorization code: 4/1AX4XfWhwHDgC4M4LVByuSXSFJO2-7-e5yggCsOvU9_iC6PSbi6XZswBpcuI\n"
          ]
        }
      ]
    },
    {
      "cell_type": "code",
      "metadata": {
        "id": "j5HS5F-MHyIo",
        "colab": {
          "base_uri": "https://localhost:8080/",
          "height": 142
        },
        "outputId": "5dec1d66-36c1-4017-fa30-d5175b30a8bd"
      },
      "source": [
        "# note the sample submission  <---- this is needed for the submission\n",
        "ds_sample.sample(3)"
      ],
      "execution_count": null,
      "outputs": [
        {
          "output_type": "execute_result",
          "data": {
            "text/html": [
              "<div>\n",
              "<style scoped>\n",
              "    .dataframe tbody tr th:only-of-type {\n",
              "        vertical-align: middle;\n",
              "    }\n",
              "\n",
              "    .dataframe tbody tr th {\n",
              "        vertical-align: top;\n",
              "    }\n",
              "\n",
              "    .dataframe thead th {\n",
              "        text-align: right;\n",
              "    }\n",
              "</style>\n",
              "<table border=\"1\" class=\"dataframe\">\n",
              "  <thead>\n",
              "    <tr style=\"text-align: right;\">\n",
              "      <th></th>\n",
              "      <th>id</th>\n",
              "      <th>label</th>\n",
              "    </tr>\n",
              "  </thead>\n",
              "  <tbody>\n",
              "    <tr>\n",
              "      <th>136</th>\n",
              "      <td>1314</td>\n",
              "      <td>ham</td>\n",
              "    </tr>\n",
              "    <tr>\n",
              "      <th>415</th>\n",
              "      <td>4132</td>\n",
              "      <td>ham</td>\n",
              "    </tr>\n",
              "    <tr>\n",
              "      <th>204</th>\n",
              "      <td>2107</td>\n",
              "      <td>ham</td>\n",
              "    </tr>\n",
              "  </tbody>\n",
              "</table>\n",
              "</div>"
            ],
            "text/plain": [
              "       id label\n",
              "136  1314   ham\n",
              "415  4132   ham\n",
              "204  2107   ham"
            ]
          },
          "metadata": {},
          "execution_count": 5
        }
      ]
    },
    {
      "cell_type": "code",
      "metadata": {
        "id": "oxlM8cn9H3Pm"
      },
      "source": [
        "# example upload\n",
        "ds_sample.to_csv(\"example.csv\", index=False)"
      ],
      "execution_count": null,
      "outputs": []
    },
    {
      "cell_type": "code",
      "metadata": {
        "id": "n1KZd2DxpJcx",
        "colab": {
          "base_uri": "https://localhost:8080/",
          "height": 142
        },
        "outputId": "314bb8f1-19df-4e8d-888b-de03c067b88d"
      },
      "source": [
        "ds_train.sample(3)"
      ],
      "execution_count": null,
      "outputs": [
        {
          "output_type": "execute_result",
          "data": {
            "text/html": [
              "<div>\n",
              "<style scoped>\n",
              "    .dataframe tbody tr th:only-of-type {\n",
              "        vertical-align: middle;\n",
              "    }\n",
              "\n",
              "    .dataframe tbody tr th {\n",
              "        vertical-align: top;\n",
              "    }\n",
              "\n",
              "    .dataframe thead th {\n",
              "        text-align: right;\n",
              "    }\n",
              "</style>\n",
              "<table border=\"1\" class=\"dataframe\">\n",
              "  <thead>\n",
              "    <tr style=\"text-align: right;\">\n",
              "      <th></th>\n",
              "      <th>message</th>\n",
              "      <th>label</th>\n",
              "      <th>id</th>\n",
              "    </tr>\n",
              "  </thead>\n",
              "  <tbody>\n",
              "    <tr>\n",
              "      <th>1486</th>\n",
              "      <td>Under the sea, there lays a rock. In the rock,...</td>\n",
              "      <td>ham</td>\n",
              "      <td>1947</td>\n",
              "    </tr>\n",
              "    <tr>\n",
              "      <th>3638</th>\n",
              "      <td>Congratulations U can claim 2 VIP row A Ticket...</td>\n",
              "      <td>spam</td>\n",
              "      <td>2928</td>\n",
              "    </tr>\n",
              "    <tr>\n",
              "      <th>1964</th>\n",
              "      <td>You only hate me. You can call any but you did...</td>\n",
              "      <td>ham</td>\n",
              "      <td>2561</td>\n",
              "    </tr>\n",
              "  </tbody>\n",
              "</table>\n",
              "</div>"
            ],
            "text/plain": [
              "                                                message label    id\n",
              "1486  Under the sea, there lays a rock. In the rock,...   ham  1947\n",
              "3638  Congratulations U can claim 2 VIP row A Ticket...  spam  2928\n",
              "1964  You only hate me. You can call any but you did...   ham  2561"
            ]
          },
          "metadata": {},
          "execution_count": 7
        }
      ]
    },
    {
      "cell_type": "code",
      "metadata": {
        "id": "lklSYyShmX07",
        "colab": {
          "base_uri": "https://localhost:8080/"
        },
        "outputId": "ebff39fc-dd0c-4b5d-c018-19446a91abe4"
      },
      "source": [
        "# vectorize the data -- max vocab\n",
        "cv = CountVectorizer(max_features=500)\n",
        "cv.fit(ds_train.message)"
      ],
      "execution_count": null,
      "outputs": [
        {
          "output_type": "execute_result",
          "data": {
            "text/plain": [
              "CountVectorizer(max_features=500)"
            ]
          },
          "metadata": {},
          "execution_count": 8
        }
      ]
    },
    {
      "cell_type": "code",
      "metadata": {
        "id": "nPp0rQVBT4Oc"
      },
      "source": [
        "# reduce\n",
        "dtm = cv.transform(ds_train.message).toarray()\n",
        "pca = PCA(50)\n",
        "pcs = pca.fit_transform(dtm)"
      ],
      "execution_count": null,
      "outputs": []
    },
    {
      "cell_type": "code",
      "metadata": {
        "colab": {
          "base_uri": "https://localhost:8080/"
        },
        "id": "rMGYXn9RUSt4",
        "outputId": "77ff8e2b-7ff2-4112-e277-5b75f6952974"
      },
      "source": [
        "# how much of the variance did we retain?\n",
        "pca.explained_variance_ratio_.sum()"
      ],
      "execution_count": null,
      "outputs": [
        {
          "output_type": "execute_result",
          "data": {
            "text/plain": [
              "0.5425849044964769"
            ]
          },
          "metadata": {},
          "execution_count": 10
        }
      ]
    },
    {
      "cell_type": "code",
      "metadata": {
        "id": "gTZV-F2RqItO",
        "colab": {
          "base_uri": "https://localhost:8080/"
        },
        "outputId": "666f2bb0-56ed-406a-e182-cdb31265d388"
      },
      "source": [
        "# fit the tree to the training data\n",
        "tree = DecisionTreeClassifier(max_depth=5, min_samples_split=30, min_samples_leaf=15, random_state=820)\n",
        "tree.fit(pcs, ds_train.label)"
      ],
      "execution_count": null,
      "outputs": [
        {
          "output_type": "execute_result",
          "data": {
            "text/plain": [
              "DecisionTreeClassifier(max_depth=5, min_samples_leaf=15, min_samples_split=30,\n",
              "                       random_state=820)"
            ]
          },
          "metadata": {},
          "execution_count": 11
        }
      ]
    },
    {
      "cell_type": "code",
      "metadata": {
        "id": "a7sCf2FIN_sU",
        "colab": {
          "base_uri": "https://localhost:8080/"
        },
        "outputId": "038d7c34-4288-47fd-b6bd-2221aeb27652"
      },
      "source": [
        "# how well did it do on the TRAIN set\n",
        "tree.score(pcs, ds_train.label)"
      ],
      "execution_count": null,
      "outputs": [
        {
          "output_type": "execute_result",
          "data": {
            "text/plain": [
              "0.9546284224250325"
            ]
          },
          "metadata": {},
          "execution_count": 12
        }
      ]
    },
    {
      "cell_type": "code",
      "metadata": {
        "id": "c-FrD_3_mZRi",
        "colab": {
          "base_uri": "https://localhost:8080/"
        },
        "outputId": "2f1918de-8e58-49be-a8d5-8a9c37cfcc5a"
      },
      "source": [
        "# apply the model to the test set\n",
        "test_vs = pca.transform(cv.transform(ds_test.message).toarray())\n",
        "test_preds = tree.predict(test_vs)\n",
        "test_preds[:5]"
      ],
      "execution_count": null,
      "outputs": [
        {
          "output_type": "execute_result",
          "data": {
            "text/plain": [
              "array(['ham', 'spam', 'ham', 'ham', 'ham'], dtype=object)"
            ]
          },
          "metadata": {},
          "execution_count": 13
        }
      ]
    },
    {
      "cell_type": "code",
      "metadata": {
        "id": "57MaBve3pIJg",
        "colab": {
          "base_uri": "https://localhost:8080/",
          "height": 142
        },
        "outputId": "201231df-90f9-47e4-ecc2-8b9667c175e7"
      },
      "source": [
        "# build out a dataset for the submission\n",
        "ds_test['label'] = test_preds\n",
        "ds_test.sample(3)"
      ],
      "execution_count": null,
      "outputs": [
        {
          "output_type": "execute_result",
          "data": {
            "text/html": [
              "<div>\n",
              "<style scoped>\n",
              "    .dataframe tbody tr th:only-of-type {\n",
              "        vertical-align: middle;\n",
              "    }\n",
              "\n",
              "    .dataframe tbody tr th {\n",
              "        vertical-align: top;\n",
              "    }\n",
              "\n",
              "    .dataframe thead th {\n",
              "        text-align: right;\n",
              "    }\n",
              "</style>\n",
              "<table border=\"1\" class=\"dataframe\">\n",
              "  <thead>\n",
              "    <tr style=\"text-align: right;\">\n",
              "      <th></th>\n",
              "      <th>message</th>\n",
              "      <th>id</th>\n",
              "      <th>label</th>\n",
              "    </tr>\n",
              "  </thead>\n",
              "  <tbody>\n",
              "    <tr>\n",
              "      <th>147</th>\n",
              "      <td>Just seeing your missed call my dear brother. ...</td>\n",
              "      <td>1430</td>\n",
              "      <td>spam</td>\n",
              "    </tr>\n",
              "    <tr>\n",
              "      <th>131</th>\n",
              "      <td>If u laugh really loud.. If u talk spontaneous...</td>\n",
              "      <td>1246</td>\n",
              "      <td>ham</td>\n",
              "    </tr>\n",
              "    <tr>\n",
              "      <th>66</th>\n",
              "      <td>Ok i msg u b4 i leave my house.</td>\n",
              "      <td>599</td>\n",
              "      <td>ham</td>\n",
              "    </tr>\n",
              "  </tbody>\n",
              "</table>\n",
              "</div>"
            ],
            "text/plain": [
              "                                               message    id label\n",
              "147  Just seeing your missed call my dear brother. ...  1430  spam\n",
              "131  If u laugh really loud.. If u talk spontaneous...  1246   ham\n",
              "66                     Ok i msg u b4 i leave my house.   599   ham"
            ]
          },
          "metadata": {},
          "execution_count": 14
        }
      ]
    },
    {
      "cell_type": "code",
      "metadata": {
        "id": "7CWjp-M9OQIq"
      },
      "source": [
        "# write out the sample set\n",
        "ds_test[['id', 'label']].to_csv('myteam-submission.csv', index=False)"
      ],
      "execution_count": null,
      "outputs": []
    },
    {
      "cell_type": "code",
      "metadata": {
        "id": "WhINuqBEPCO-",
        "colab": {
          "base_uri": "https://localhost:8080/"
        },
        "outputId": "1cf4c854-8c32-4a49-8a61-23614760b2a5"
      },
      "source": [
        "! head myteam-submission.csv"
      ],
      "execution_count": null,
      "outputs": [
        {
          "output_type": "stream",
          "name": "stdout",
          "text": [
            "id,label\n",
            "4,ham\n",
            "5,spam\n",
            "11,ham\n",
            "19,ham\n",
            "21,ham\n",
            "52,ham\n",
            "59,ham\n",
            "70,spam\n",
            "76,ham\n"
          ]
        }
      ]
    },
    {
      "cell_type": "markdown",
      "metadata": {
        "id": "5iN1b9halCpG"
      },
      "source": [
        "# Lets serve this model!"
      ]
    },
    {
      "cell_type": "code",
      "metadata": {
        "colab": {
          "base_uri": "https://localhost:8080/"
        },
        "id": "v7aQdy0LWBHh",
        "outputId": "1638e7a9-66ad-4a64-a9da-7a00bb7fc92e"
      },
      "source": [
        "\n",
        "# save the models to disk\n",
        "import joblib\n",
        "\n",
        "joblib.dump(pca, \"pca.joblib\")\n",
        "joblib.dump(cv, \"cv.joblib\")\n",
        "joblib.dump(tree, \"tree.joblib\")"
      ],
      "execution_count": null,
      "outputs": [
        {
          "output_type": "execute_result",
          "data": {
            "text/plain": [
              "['tree.joblib']"
            ]
          },
          "metadata": {},
          "execution_count": 17
        }
      ]
    },
    {
      "cell_type": "code",
      "metadata": {
        "id": "bbNzSSThryzQ"
      },
      "source": [
        "# predict spam\n",
        "# confirm\n",
        "S = \"WINNER!! As a valued network customer you have been selected to receivea £900 prize reward! To claim call 09061701461. Claim code KL341. Valid 12 hours only.\"\n",
        "dtm = cv.transform([S]).toarray()  \n",
        "pcs = pca.transform(dtm)\n",
        "pred = tree.predict(pcs) "
      ],
      "execution_count": null,
      "outputs": []
    },
    {
      "cell_type": "code",
      "metadata": {
        "id": "2ptphdjbvLW2"
      },
      "source": [
        "# predict ham\n",
        "H = \"Lol your always so convincing.\"\n",
        "dtm = cv.transform([H]).toarray()  \n",
        "pcs = pca.transform(dtm)\n",
        "pred = tree.predict(pcs) "
      ],
      "execution_count": null,
      "outputs": []
    },
    {
      "cell_type": "code",
      "metadata": {
        "id": "BW1YgG7AWHNa",
        "colab": {
          "base_uri": "https://localhost:8080/"
        },
        "outputId": "5470bc54-96cb-459f-e6cb-adfe14943a10"
      },
      "source": [
        "# download the streamlit file\n",
        "! wget https://raw.githubusercontent.com/Btibert3/BA820-Fall-2021/main/apps/streamlit-example/app.py"
      ],
      "execution_count": null,
      "outputs": [
        {
          "output_type": "stream",
          "name": "stdout",
          "text": [
            "--2021-11-12 19:18:27--  https://raw.githubusercontent.com/Btibert3/BA820-Fall-2021/main/apps/streamlit-example/app.py\n",
            "Resolving raw.githubusercontent.com (raw.githubusercontent.com)... 185.199.108.133, 185.199.109.133, 185.199.110.133, ...\n",
            "Connecting to raw.githubusercontent.com (raw.githubusercontent.com)|185.199.108.133|:443... connected.\n",
            "HTTP request sent, awaiting response... 200 OK\n",
            "Length: 1612 (1.6K) [text/plain]\n",
            "Saving to: ‘app.py’\n",
            "\n",
            "app.py              100%[===================>]   1.57K  --.-KB/s    in 0s      \n",
            "\n",
            "2021-11-12 19:18:28 (24.0 MB/s) - ‘app.py’ saved [1612/1612]\n",
            "\n"
          ]
        }
      ]
    },
    {
      "cell_type": "code",
      "metadata": {
        "id": "zRANwGConqtU"
      },
      "source": [
        "\n",
        "# "
      ],
      "execution_count": null,
      "outputs": []
    },
    {
      "cell_type": "code",
      "metadata": {
        "id": "A6vuwtJCnqls"
      },
      "source": [
        ""
      ],
      "execution_count": null,
      "outputs": []
    },
    {
      "cell_type": "markdown",
      "metadata": {
        "id": "PKtWSb8vWFRd"
      },
      "source": [
        "# Streamlit App"
      ]
    },
    {
      "cell_type": "code",
      "metadata": {
        "id": "5nZLARTWWGxh"
      },
      "source": [
        "# installs and restart runtime\n",
        "! pip install streamlit\n",
        "! pip install pyngrok"
      ],
      "execution_count": null,
      "outputs": []
    },
    {
      "cell_type": "code",
      "metadata": {
        "colab": {
          "base_uri": "https://localhost:8080/"
        },
        "id": "YhDywid2XHP_",
        "outputId": "71c0612f-9135-46ec-ebcc-c7520423a69b"
      },
      "source": [
        "# create the ngrok session\n",
        "from pyngrok import ngrok \n",
        "\n",
        "\n",
        "ngrok.connect(8501)\n"
      ],
      "execution_count": null,
      "outputs": [
        {
          "output_type": "stream",
          "name": "stdout",
          "text": [
            ""
          ]
        },
        {
          "output_type": "execute_result",
          "data": {
            "text/plain": [
              "<NgrokTunnel: \"http://3016-35-231-55-146.ngrok.io\" -> \"http://localhost:8501\">"
            ]
          },
          "metadata": {},
          "execution_count": 1
        }
      ]
    },
    {
      "cell_type": "code",
      "metadata": {
        "colab": {
          "base_uri": "https://localhost:8080/"
        },
        "id": "r10jD_kmoc2W",
        "outputId": "f017d062-5334-49ef-857c-bb00c0028dd8"
      },
      "source": [
        "# run the app\n",
        "! streamlit run app.py"
      ],
      "execution_count": null,
      "outputs": [
        {
          "output_type": "stream",
          "name": "stdout",
          "text": [
            "\u001b[0m\n",
            "\u001b[34m\u001b[1m  You can now view your Streamlit app in your browser.\u001b[0m\n",
            "\u001b[0m\n",
            "\u001b[34m  Network URL: \u001b[0m\u001b[1mhttp://172.28.0.2:8501\u001b[0m\n",
            "\u001b[34m  External URL: \u001b[0m\u001b[1mhttp://35.231.55.146:8501\u001b[0m\n",
            "\u001b[0m\n",
            "\u001b[34m  Stopping...\u001b[0m\n"
          ]
        }
      ]
    },
    {
      "cell_type": "code",
      "metadata": {
        "id": "8DwIIqxLovmh"
      },
      "source": [
        ""
      ],
      "execution_count": null,
      "outputs": []
    }
  ]
}