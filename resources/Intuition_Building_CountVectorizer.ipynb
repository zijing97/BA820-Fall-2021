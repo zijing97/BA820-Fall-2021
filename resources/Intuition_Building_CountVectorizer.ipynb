{
  "nbformat": 4,
  "nbformat_minor": 0,
  "metadata": {
    "colab": {
      "name": "Intuition Building - CountVectorizer",
      "provenance": [],
      "collapsed_sections": []
    },
    "kernelspec": {
      "name": "python3",
      "display_name": "Python 3"
    },
    "language_info": {
      "name": "python"
    }
  },
  "cells": [
    {
      "cell_type": "markdown",
      "metadata": {
        "id": "U9IGuo5xwE5s"
      },
      "source": [
        "# Quick Review\n",
        "\n",
        "- Let's step back after our first couple of sessions and try to simplify things."
      ]
    },
    {
      "cell_type": "code",
      "metadata": {
        "id": "YmK73NHwvR1F"
      },
      "source": [
        "# imports\n",
        "import pandas as pd\n",
        "import seaborn as sns\n",
        "\n",
        "from sklearn.feature_extraction.text import CountVectorizer, TfidfVectorizer\n"
      ],
      "execution_count": 47,
      "outputs": []
    },
    {
      "cell_type": "code",
      "metadata": {
        "id": "EoSjfxzJwFum",
        "colab": {
          "base_uri": "https://localhost:8080/",
          "height": 35
        },
        "outputId": "3e4b2ada-cf31-4ee8-bcc2-d22735b45291"
      },
      "source": [
        "#scikit version - we want 1.0+\n",
        "import sklearn\n",
        "sklearn.__version__"
      ],
      "execution_count": 48,
      "outputs": [
        {
          "output_type": "execute_result",
          "data": {
            "application/vnd.google.colaboratory.intrinsic+json": {
              "type": "string"
            },
            "text/plain": [
              "'1.0.1'"
            ]
          },
          "metadata": {},
          "execution_count": 48
        }
      ]
    },
    {
      "cell_type": "markdown",
      "metadata": {
        "id": "R2_Zjvu1z2gY"
      },
      "source": [
        "# Tokenization"
      ]
    },
    {
      "cell_type": "code",
      "metadata": {
        "id": "dYHSYfFEvtfX"
      },
      "source": [
        "# create a simple corpus\n",
        "corpus = [\"I can't love this game.\", \"I can't hate this game.\"]"
      ],
      "execution_count": 49,
      "outputs": []
    },
    {
      "cell_type": "code",
      "metadata": {
        "id": "T5NMyVANvx5b",
        "colab": {
          "base_uri": "https://localhost:8080/"
        },
        "outputId": "0b65d467-4e1f-4927-dae5-50f06731b64a"
      },
      "source": [
        "# fit the tokenization model (CountVectorizer) to the corpus\n",
        "# this learns our vocabulary for the corpus\n",
        "# the vocab is our features, just like any other dataset!\n",
        "cv = CountVectorizer()\n",
        "cv.fit(corpus)"
      ],
      "execution_count": 50,
      "outputs": [
        {
          "output_type": "execute_result",
          "data": {
            "text/plain": [
              "CountVectorizer()"
            ]
          },
          "metadata": {},
          "execution_count": 50
        }
      ]
    },
    {
      "cell_type": "code",
      "metadata": {
        "id": "mXXLARgjwDcn",
        "colab": {
          "base_uri": "https://localhost:8080/"
        },
        "outputId": "c481cc71-7e0d-4f40-ba28-6bfd88c953bd"
      },
      "source": [
        "# what is the length vocab\n",
        "len(cv.vocabulary_)"
      ],
      "execution_count": 51,
      "outputs": [
        {
          "output_type": "execute_result",
          "data": {
            "text/plain": [
              "5"
            ]
          },
          "metadata": {},
          "execution_count": 51
        }
      ]
    },
    {
      "cell_type": "code",
      "metadata": {
        "id": "PMqZy_kSxBcs",
        "colab": {
          "base_uri": "https://localhost:8080/"
        },
        "outputId": "0ab210e2-afd2-441e-9fe2-837dd7cf2d1d"
      },
      "source": [
        "# what is the vocab\n",
        "# below is a dictionary of token -> id mappings\n",
        "cv.vocabulary_"
      ],
      "execution_count": 52,
      "outputs": [
        {
          "output_type": "execute_result",
          "data": {
            "text/plain": [
              "{'can': 0, 'game': 1, 'hate': 2, 'love': 3, 'this': 4}"
            ]
          },
          "metadata": {},
          "execution_count": 52
        }
      ]
    },
    {
      "cell_type": "code",
      "metadata": {
        "id": "f0nkc99axJBV",
        "colab": {
          "base_uri": "https://localhost:8080/"
        },
        "outputId": "98c8521e-d750-4f9a-c9ec-55c0f0772b21"
      },
      "source": [
        "# we can also get the features\n",
        "cv.get_feature_names_out()"
      ],
      "execution_count": 53,
      "outputs": [
        {
          "output_type": "execute_result",
          "data": {
            "text/plain": [
              "array(['can', 'game', 'hate', 'love', 'this'], dtype=object)"
            ]
          },
          "metadata": {},
          "execution_count": 53
        }
      ]
    },
    {
      "cell_type": "markdown",
      "metadata": {
        "id": "nzwv7SlxxO3p"
      },
      "source": [
        "> Notice that single token words weren't extracted and the contraction wasn't handled properly"
      ]
    },
    {
      "cell_type": "code",
      "metadata": {
        "id": "dYg-QRtmxV55",
        "colab": {
          "base_uri": "https://localhost:8080/"
        },
        "outputId": "6586610c-ce23-44ee-bb3b-9540b842df98"
      },
      "source": [
        "# we can change the token pattern to split on whitespace\n",
        "cv = CountVectorizer(token_pattern=\"\\S+\", )\n",
        "cv.fit(corpus)"
      ],
      "execution_count": 54,
      "outputs": [
        {
          "output_type": "execute_result",
          "data": {
            "text/plain": [
              "CountVectorizer(token_pattern='\\\\S+')"
            ]
          },
          "metadata": {},
          "execution_count": 54
        }
      ]
    },
    {
      "cell_type": "code",
      "metadata": {
        "id": "PAfzrQadxcHt",
        "colab": {
          "base_uri": "https://localhost:8080/"
        },
        "outputId": "7561ac1b-bdae-4dba-c27f-e4d18050a7c8"
      },
      "source": [
        "# we might consider this a better representation\n",
        "# and highlights that sometimes we may want to review the patterns per our task\n",
        "# start small!  create a small corpus to review it like we are here!\n",
        "cv.get_feature_names_out()"
      ],
      "execution_count": 55,
      "outputs": [
        {
          "output_type": "execute_result",
          "data": {
            "text/plain": [
              "array([\"can't\", 'game.', 'hate', 'i', 'love', 'this'], dtype=object)"
            ]
          },
          "metadata": {},
          "execution_count": 55
        }
      ]
    },
    {
      "cell_type": "code",
      "metadata": {
        "id": "g9PlAcWnxebU"
      },
      "source": [
        "# lets get the dtm array\n",
        "# we apply the bag of words model via transform\n",
        "dtm = cv.transform(corpus)"
      ],
      "execution_count": 56,
      "outputs": []
    },
    {
      "cell_type": "code",
      "metadata": {
        "id": "I1FgB2oGyEX8",
        "colab": {
          "base_uri": "https://localhost:8080/"
        },
        "outputId": "01fc91f3-3227-4b44-e27c-3a0d781d9ce1"
      },
      "source": [
        "# what do we have\n",
        "type(dtm)"
      ],
      "execution_count": 57,
      "outputs": [
        {
          "output_type": "execute_result",
          "data": {
            "text/plain": [
              "scipy.sparse.csr.csr_matrix"
            ]
          },
          "metadata": {},
          "execution_count": 57
        }
      ]
    },
    {
      "cell_type": "code",
      "metadata": {
        "id": "llLzzMcSyFqA",
        "colab": {
          "base_uri": "https://localhost:8080/"
        },
        "outputId": "9297b70e-b031-418e-a943-a3c1e7cb429c"
      },
      "source": [
        "# we can get the dense representation of the matrix\n",
        "# but worth noting, this is just like any other numeric-only dataset in pandas\n",
        "dtm.toarray()"
      ],
      "execution_count": 58,
      "outputs": [
        {
          "output_type": "execute_result",
          "data": {
            "text/plain": [
              "array([[1, 1, 0, 1, 1, 1],\n",
              "       [1, 1, 1, 1, 0, 1]])"
            ]
          },
          "metadata": {},
          "execution_count": 58
        }
      ]
    },
    {
      "cell_type": "code",
      "metadata": {
        "id": "ejZxmTf1yM-R",
        "colab": {
          "base_uri": "https://localhost:8080/",
          "height": 110
        },
        "outputId": "e9ead139-f4c5-44c7-f508-7c4c8284c0d0"
      },
      "source": [
        "# we can always put this into a dataframe\n",
        "df = pd.DataFrame(dtm.toarray(), columns=cv.get_feature_names_out())\n",
        "\n",
        "df"
      ],
      "execution_count": 59,
      "outputs": [
        {
          "output_type": "execute_result",
          "data": {
            "text/html": [
              "<div>\n",
              "<style scoped>\n",
              "    .dataframe tbody tr th:only-of-type {\n",
              "        vertical-align: middle;\n",
              "    }\n",
              "\n",
              "    .dataframe tbody tr th {\n",
              "        vertical-align: top;\n",
              "    }\n",
              "\n",
              "    .dataframe thead th {\n",
              "        text-align: right;\n",
              "    }\n",
              "</style>\n",
              "<table border=\"1\" class=\"dataframe\">\n",
              "  <thead>\n",
              "    <tr style=\"text-align: right;\">\n",
              "      <th></th>\n",
              "      <th>can't</th>\n",
              "      <th>game.</th>\n",
              "      <th>hate</th>\n",
              "      <th>i</th>\n",
              "      <th>love</th>\n",
              "      <th>this</th>\n",
              "    </tr>\n",
              "  </thead>\n",
              "  <tbody>\n",
              "    <tr>\n",
              "      <th>0</th>\n",
              "      <td>1</td>\n",
              "      <td>1</td>\n",
              "      <td>0</td>\n",
              "      <td>1</td>\n",
              "      <td>1</td>\n",
              "      <td>1</td>\n",
              "    </tr>\n",
              "    <tr>\n",
              "      <th>1</th>\n",
              "      <td>1</td>\n",
              "      <td>1</td>\n",
              "      <td>1</td>\n",
              "      <td>1</td>\n",
              "      <td>0</td>\n",
              "      <td>1</td>\n",
              "    </tr>\n",
              "  </tbody>\n",
              "</table>\n",
              "</div>"
            ],
            "text/plain": [
              "   can't  game.  hate  i  love  this\n",
              "0      1      1     0  1     1     1\n",
              "1      1      1     1  1     0     1"
            ]
          },
          "metadata": {},
          "execution_count": 59
        }
      ]
    },
    {
      "cell_type": "markdown",
      "metadata": {
        "id": "dUBanqjmyayW"
      },
      "source": [
        "> We have seen that we can use our own tokenizer, perhaps you want to remove the punctuation.  We will see how other tools like the amazing spacy handle this."
      ]
    },
    {
      "cell_type": "code",
      "metadata": {
        "id": "h49wrgKSybMp"
      },
      "source": [
        "# lets say we have a new document to review\n",
        "doc = \"I LIKE PYTHON\""
      ],
      "execution_count": 60,
      "outputs": []
    },
    {
      "cell_type": "code",
      "metadata": {
        "id": "iI6hEfDly_J_"
      },
      "source": [
        "# lets tokenize this text based on our existing vocabulary\n",
        "tokens = cv.transform([doc])\n",
        "\n",
        "# note above I need to pass in a single piece of text as a list"
      ],
      "execution_count": 61,
      "outputs": []
    },
    {
      "cell_type": "code",
      "metadata": {
        "id": "H4F3yNQvzHZz",
        "colab": {
          "base_uri": "https://localhost:8080/"
        },
        "outputId": "05cf873b-909c-4b21-8891-ffe1f5d2a969"
      },
      "source": [
        "# what do we have?\n",
        "tokens.shape"
      ],
      "execution_count": 62,
      "outputs": [
        {
          "output_type": "execute_result",
          "data": {
            "text/plain": [
              "(1, 6)"
            ]
          },
          "metadata": {},
          "execution_count": 62
        }
      ]
    },
    {
      "cell_type": "code",
      "metadata": {
        "id": "FAVC07c2zH_D",
        "colab": {
          "base_uri": "https://localhost:8080/",
          "height": 80
        },
        "outputId": "bbd48133-bed9-4e68-9730-34054e9beb31"
      },
      "source": [
        "# lets review\n",
        "docdf = pd.DataFrame(tokens.toarray(), columns=cv.get_feature_names_out())\n",
        "\n",
        "docdf"
      ],
      "execution_count": 63,
      "outputs": [
        {
          "output_type": "execute_result",
          "data": {
            "text/html": [
              "<div>\n",
              "<style scoped>\n",
              "    .dataframe tbody tr th:only-of-type {\n",
              "        vertical-align: middle;\n",
              "    }\n",
              "\n",
              "    .dataframe tbody tr th {\n",
              "        vertical-align: top;\n",
              "    }\n",
              "\n",
              "    .dataframe thead th {\n",
              "        text-align: right;\n",
              "    }\n",
              "</style>\n",
              "<table border=\"1\" class=\"dataframe\">\n",
              "  <thead>\n",
              "    <tr style=\"text-align: right;\">\n",
              "      <th></th>\n",
              "      <th>can't</th>\n",
              "      <th>game.</th>\n",
              "      <th>hate</th>\n",
              "      <th>i</th>\n",
              "      <th>love</th>\n",
              "      <th>this</th>\n",
              "    </tr>\n",
              "  </thead>\n",
              "  <tbody>\n",
              "    <tr>\n",
              "      <th>0</th>\n",
              "      <td>0</td>\n",
              "      <td>0</td>\n",
              "      <td>0</td>\n",
              "      <td>1</td>\n",
              "      <td>0</td>\n",
              "      <td>0</td>\n",
              "    </tr>\n",
              "  </tbody>\n",
              "</table>\n",
              "</div>"
            ],
            "text/plain": [
              "   can't  game.  hate  i  love  this\n",
              "0      0      0     0  1     0     0"
            ]
          },
          "metadata": {},
          "execution_count": 63
        }
      ]
    },
    {
      "cell_type": "markdown",
      "metadata": {
        "id": "-0cGQxVJzP6_"
      },
      "source": [
        "> Notice that the terms `like` and `python` were not part of the original vocabulary.  This highlights that Out of Vocabulary words are ignored when fitting to new text/datasets.  This is one of the challenges of NLP, and also highlights that NLP tasks usually require a large, and representative, __training__ corpus."
      ]
    },
    {
      "cell_type": "code",
      "metadata": {
        "id": "ldlqJT9HzlcY"
      },
      "source": [
        ""
      ],
      "execution_count": 63,
      "outputs": []
    },
    {
      "cell_type": "markdown",
      "metadata": {
        "id": "CU50oYv6z4UL"
      },
      "source": [
        "# Weighting"
      ]
    },
    {
      "cell_type": "code",
      "metadata": {
        "id": "RAWoluKQz52x",
        "colab": {
          "base_uri": "https://localhost:8080/"
        },
        "outputId": "773b513c-5626-4a21-b60f-61764d3c778a"
      },
      "source": [
        "# lets use the same original, training corpus\n",
        "tv = TfidfVectorizer(token_pattern=\"\\S+\")\n",
        "\n",
        "# fit to the training corpus\n",
        "tv.fit(corpus)"
      ],
      "execution_count": 64,
      "outputs": [
        {
          "output_type": "execute_result",
          "data": {
            "text/plain": [
              "TfidfVectorizer(token_pattern='\\\\S+')"
            ]
          },
          "metadata": {},
          "execution_count": 64
        }
      ]
    },
    {
      "cell_type": "code",
      "metadata": {
        "id": "ipl5Wyi60GvU",
        "colab": {
          "base_uri": "https://localhost:8080/"
        },
        "outputId": "d0ad17ab-fbb2-44b3-c0d8-1b347d6010fd"
      },
      "source": [
        "# the output is the same, its just a weighting scheme\n",
        "tfidf = tv.transform(corpus)\n",
        "\n",
        "tfidf.shape"
      ],
      "execution_count": 65,
      "outputs": [
        {
          "output_type": "execute_result",
          "data": {
            "text/plain": [
              "(2, 6)"
            ]
          },
          "metadata": {},
          "execution_count": 65
        }
      ]
    },
    {
      "cell_type": "code",
      "metadata": {
        "id": "V0loxHlQ1lfv",
        "colab": {
          "base_uri": "https://localhost:8080/",
          "height": 110
        },
        "outputId": "1b281b1d-5659-4eed-ac7f-1a71a81166bd"
      },
      "source": [
        "# put this into a dataframe\n",
        "df = pd.DataFrame(tfidf.toarray(), columns=tv.get_feature_names_out())\n",
        "\n",
        "df"
      ],
      "execution_count": 66,
      "outputs": [
        {
          "output_type": "execute_result",
          "data": {
            "text/html": [
              "<div>\n",
              "<style scoped>\n",
              "    .dataframe tbody tr th:only-of-type {\n",
              "        vertical-align: middle;\n",
              "    }\n",
              "\n",
              "    .dataframe tbody tr th {\n",
              "        vertical-align: top;\n",
              "    }\n",
              "\n",
              "    .dataframe thead th {\n",
              "        text-align: right;\n",
              "    }\n",
              "</style>\n",
              "<table border=\"1\" class=\"dataframe\">\n",
              "  <thead>\n",
              "    <tr style=\"text-align: right;\">\n",
              "      <th></th>\n",
              "      <th>can't</th>\n",
              "      <th>game.</th>\n",
              "      <th>hate</th>\n",
              "      <th>i</th>\n",
              "      <th>love</th>\n",
              "      <th>this</th>\n",
              "    </tr>\n",
              "  </thead>\n",
              "  <tbody>\n",
              "    <tr>\n",
              "      <th>0</th>\n",
              "      <td>0.40909</td>\n",
              "      <td>0.40909</td>\n",
              "      <td>0.000000</td>\n",
              "      <td>0.40909</td>\n",
              "      <td>0.574962</td>\n",
              "      <td>0.40909</td>\n",
              "    </tr>\n",
              "    <tr>\n",
              "      <th>1</th>\n",
              "      <td>0.40909</td>\n",
              "      <td>0.40909</td>\n",
              "      <td>0.574962</td>\n",
              "      <td>0.40909</td>\n",
              "      <td>0.000000</td>\n",
              "      <td>0.40909</td>\n",
              "    </tr>\n",
              "  </tbody>\n",
              "</table>\n",
              "</div>"
            ],
            "text/plain": [
              "     can't    game.      hate        i      love     this\n",
              "0  0.40909  0.40909  0.000000  0.40909  0.574962  0.40909\n",
              "1  0.40909  0.40909  0.574962  0.40909  0.000000  0.40909"
            ]
          },
          "metadata": {},
          "execution_count": 66
        }
      ]
    },
    {
      "cell_type": "markdown",
      "metadata": {
        "id": "xwsopVHx1vNF"
      },
      "source": [
        "> Note that we are just reweighting the data.  Let's plot this for intuition."
      ]
    },
    {
      "cell_type": "code",
      "metadata": {
        "id": "ugH4KufY2G1S",
        "colab": {
          "base_uri": "https://localhost:8080/",
          "height": 282
        },
        "outputId": "ad26e5d6-7f07-4cf4-8cf0-767227165482"
      },
      "source": [
        "sns.heatmap(df, cmap=\"Blues\")"
      ],
      "execution_count": 67,
      "outputs": [
        {
          "output_type": "execute_result",
          "data": {
            "text/plain": [
              "<matplotlib.axes._subplots.AxesSubplot at 0x7f3f6d621110>"
            ]
          },
          "metadata": {},
          "execution_count": 67
        },
        {
          "output_type": "display_data",
          "data": {
            "image/png": "[encoded data removed]",
            "text/plain": [
              "<Figure size 432x288 with 2 Axes>"
            ]
          },
          "metadata": {
            "needs_background": "light"
          }
        }
      ]
    },
    {
      "cell_type": "code",
      "metadata": {
        "id": "yB5z_Be22JaT",
        "colab": {
          "base_uri": "https://localhost:8080/"
        },
        "outputId": "d99a6611-156d-4f3e-86b5-79593de949b9"
      },
      "source": [
        "# lets review the corpus again\n",
        "corpus"
      ],
      "execution_count": 68,
      "outputs": [
        {
          "output_type": "execute_result",
          "data": {
            "text/plain": [
              "[\"I can't love this game.\", \"I can't hate this game.\"]"
            ]
          },
          "metadata": {},
          "execution_count": 68
        }
      ]
    },
    {
      "cell_type": "markdown",
      "metadata": {
        "id": "xZmF5FOP2VTk"
      },
      "source": [
        "### Discussion\n",
        "\n",
        "- Both documents in the corpus are the exact same length\n",
        "- Only one 1 word is different\n",
        "- The weights are the exact same for the overlapping tokens\n",
        "- The tokens get a score of 0 if they don't exist, just like in a basic count\n",
        "- The token that is  unique to each of the documents gets a higher weight, with the intuition that it carries more meaning."
      ]
    },
    {
      "cell_type": "code",
      "metadata": {
        "id": "PwcBQ5m62tot"
      },
      "source": [
        ""
      ],
      "execution_count": 68,
      "outputs": []
    }
  ]
}